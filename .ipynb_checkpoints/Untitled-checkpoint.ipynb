{
 "cells": [
  {
   "cell_type": "markdown",
   "id": "966fd6d7",
   "metadata": {},
   "source": [
    "<font color=\"pink\"> <h1>TKINTER</h1> </font>"
   ]
  },
  {
   "cell_type": "code",
   "execution_count": null,
   "id": "a6ead05b",
   "metadata": {},
   "outputs": [],
   "source": []
  },
  {
   "cell_type": "code",
   "execution_count": 34,
   "id": "8d4c2da6",
   "metadata": {},
   "outputs": [],
   "source": [
    "def button_click():\n",
    "    #LABELS\n",
    "#     label_1 = Label(root,text=\"Something funny!\")\n",
    "#     label_1.pack() # this s the easiest way to put the widget on the screen\n",
    "    #with the buttonkeeps adding mmmm interesting\n",
    "    \n",
    "    #entry.get gets the input value\n",
    "    label_1 = Label(root,text=entry.get())\n",
    "    label_1.grid(row=1,column=0) #grid needs row and column\n"
   ]
  },
  {
   "cell_type": "code",
   "execution_count": null,
   "id": "1ecff13a",
   "metadata": {},
   "outputs": [],
   "source": []
  },
  {
   "cell_type": "code",
   "execution_count": 36,
   "id": "acbb8891",
   "metadata": {},
   "outputs": [],
   "source": [
    "#Import all libraries from tkinter\n",
    "#All in tkinter are about widgets yes yes yes yes okay, so \n",
    "#It works something like A(to,from), MyWidget(Parent,something\n",
    "from tkinter import * \n",
    "root = Tk() #Initialize \n",
    "\n",
    "entry = Entry(text='This is entry')\n",
    "entry.insert(0,'My default value here') # 😿 no se sobrescribe QUEE, it doesn't erase it when type \n",
    "entry.grid(row=0,column=2)\n",
    "\n",
    "#Button\n",
    "#padx and pady = width and height\n",
    "button_1 = Button(root,text='Something buttony',command=button_click)\n",
    "button_1.grid(row=0,column=0) #cannot use grid+pack\n",
    "# button_1.pack()\n",
    "\n",
    "root.mainloop() # this in an event loop something like javascript thing ammm I think lul"
   ]
  },
  {
   "cell_type": "code",
   "execution_count": null,
   "id": "4aa35815",
   "metadata": {},
   "outputs": [],
   "source": []
  },
  {
   "cell_type": "code",
   "execution_count": null,
   "id": "fa6fb7ff",
   "metadata": {},
   "outputs": [],
   "source": [
    " "
   ]
  }
 ],
 "metadata": {
  "kernelspec": {
   "display_name": "Python 3 (ipykernel)",
   "language": "python",
   "name": "python3"
  },
  "language_info": {
   "codemirror_mode": {
    "name": "ipython",
    "version": 3
   },
   "file_extension": ".py",
   "mimetype": "text/x-python",
   "name": "python",
   "nbconvert_exporter": "python",
   "pygments_lexer": "ipython3",
   "version": "3.10.4"
  }
 },
 "nbformat": 4,
 "nbformat_minor": 5
}
