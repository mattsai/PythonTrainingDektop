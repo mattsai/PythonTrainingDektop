{
 "cells": [
  {
   "cell_type": "markdown",
   "id": "69c6f794",
   "metadata": {},
   "source": [
    "<font color=\"pink\"> <h1>TKINTER</h1> </font>"
   ]
  },
  {
   "cell_type": "code",
   "execution_count": null,
   "id": "d7c17c63",
   "metadata": {},
   "outputs": [],
   "source": []
  },
  {
   "cell_type": "code",
   "execution_count": 34,
   "id": "da1cf674",
   "metadata": {},
   "outputs": [],
   "source": [
    "def button_click():\n",
    "    #LABELS\n",
    "#     label_1 = Label(root,text=\"Something funny!\")\n",
    "#     label_1.pack() # this s the easiest way to put the widget on the screen\n",
    "    #with the buttonkeeps adding mmmm interesting\n",
    "    \n",
    "    #entry.get gets the input value\n",
    "    label_1 = Label(root,text=entry.get())\n",
    "    label_1.grid(row=1,column=0) #grid needs row and column\n"
   ]
  },
  {
   "cell_type": "code",
   "execution_count": null,
   "id": "55c74482",
   "metadata": {},
   "outputs": [],
   "source": []
  },
  {
   "cell_type": "code",
   "execution_count": 35,
   "id": "9aa70269",
   "metadata": {},
   "outputs": [],
   "source": [
    "#Import all libraries from tkinter\n",
    "#All in tkinter are about widgets yes yes yes yes okay, so \n",
    "#It works something like A(to,from), MyWidget(Parent,something\n",
    "from tkinter import * \n",
    "root = Tk() #Initialize \n",
    "\n",
    "entry = Entry(text='This is entry')\n",
    "entry.grid(row=0,column=2)\n",
    "\n",
    "\n",
    "#Button\n",
    "#padx and pady = width and height\n",
    "button_1 = Button(root,text='Something buttony',command=button_click)\n",
    "button_1.grid(row=0,column=0) #cannot use grid+pack\n",
    "# button_1.pack()\n",
    "\n",
    "root.mainloop() # this in an event loop something like javascript thing ammm I think lul"
   ]
  },
  {
   "cell_type": "code",
   "execution_count": null,
   "id": "b6d99b1a",
   "metadata": {},
   "outputs": [],
   "source": []
  },
  {
   "cell_type": "code",
   "execution_count": null,
   "id": "2cf844e0",
   "metadata": {},
   "outputs": [],
   "source": [
    " "
   ]
  }
 ],
 "metadata": {
  "kernelspec": {
   "display_name": "Python 3 (ipykernel)",
   "language": "python",
   "name": "python3"
  },
  "language_info": {
   "codemirror_mode": {
    "name": "ipython",
    "version": 3
   },
   "file_extension": ".py",
   "mimetype": "text/x-python",
   "name": "python",
   "nbconvert_exporter": "python",
   "pygments_lexer": "ipython3",
   "version": "3.10.4"
  }
 },
 "nbformat": 4,
 "nbformat_minor": 5
}
